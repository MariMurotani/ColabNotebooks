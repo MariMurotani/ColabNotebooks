{
  "nbformat": 4,
  "nbformat_minor": 0,
  "metadata": {
    "colab": {
      "provenance": [],
      "machine_shape": "hm",
      "gpuType": "T4",
      "authorship_tag": "ABX9TyPugEYgY8K0ypq5g6b9VtP5",
      "include_colab_link": true
    },
    "kernelspec": {
      "name": "python3",
      "display_name": "Python 3"
    },
    "language_info": {
      "name": "python"
    },
    "accelerator": "GPU"
  },
  "cells": [
    {
      "cell_type": "markdown",
      "metadata": {
        "id": "view-in-github",
        "colab_type": "text"
      },
      "source": [
        "<a href=\"https://colab.research.google.com/github/MariMurotani/ColabNotebooks/blob/main/CEVR.ipynb\" target=\"_parent\"><img src=\"https://colab.research.google.com/assets/colab-badge.svg\" alt=\"Open In Colab\"/></a>"
      ]
    },
    {
      "cell_type": "code",
      "execution_count": null,
      "metadata": {
        "colab": {
          "base_uri": "https://localhost:8080/"
        },
        "id": "EjW2Y_C4o3XD",
        "outputId": "1d475993-d9d9-456a-dd44-9f348038752b"
      },
      "outputs": [
        {
          "output_type": "stream",
          "name": "stdout",
          "text": [
            "Mounted at /content/drive\n"
          ]
        }
      ],
      "source": [
        "from google.colab import drive\n",
        "drive.mount('/content/drive')"
      ]
    },
    {
      "cell_type": "code",
      "source": [
        "%cd /content/drive/MyDrive/Colab Notebooks/CEVR"
      ],
      "metadata": {
        "colab": {
          "base_uri": "https://localhost:8080/"
        },
        "id": "Hw2NcYZzo52B",
        "outputId": "1a8787f7-1509-4b29-a015-a814e1275f57"
      },
      "execution_count": null,
      "outputs": [
        {
          "output_type": "stream",
          "name": "stdout",
          "text": [
            "/content/drive/MyDrive/Colab Notebooks/CEVR\n"
          ]
        }
      ]
    },
    {
      "cell_type": "code",
      "source": [
        "!git clone https://github.com/skchen1993/2023_CEVR.git\n",
        "%cd 2023_CEVR"
      ],
      "metadata": {
        "colab": {
          "base_uri": "https://localhost:8080/"
        },
        "id": "tnfwAOYko-mt",
        "outputId": "18a0b8d0-8a25-45ac-eebd-74a64bd02f10"
      },
      "execution_count": null,
      "outputs": [
        {
          "output_type": "stream",
          "name": "stdout",
          "text": [
            "fatal: destination path '2023_CEVR' already exists and is not an empty directory.\n",
            "/content/drive/MyDrive/Colab Notebooks/CEVR/2023_CEVR\n"
          ]
        }
      ]
    },
    {
      "cell_type": "code",
      "source": [
        "%cd /content/drive/MyDrive/Colab Notebooks/CEVR/2023_CEVR"
      ],
      "metadata": {
        "colab": {
          "base_uri": "https://localhost:8080/"
        },
        "id": "Gxvb0aaxpGmz",
        "outputId": "ac2c35ec-c901-4d9e-fcad-178b3011c813"
      },
      "execution_count": null,
      "outputs": [
        {
          "output_type": "stream",
          "name": "stdout",
          "text": [
            "/content/drive/MyDrive/Colab Notebooks/CEVR/2023_CEVR\n"
          ]
        }
      ]
    },
    {
      "cell_type": "code",
      "source": [
        "!pip install torch torchvision\n",
        "!pip install numpy opencv-python pillow tqdm matplotlib\n",
        "!pip install pytorch-msssim"
      ],
      "metadata": {
        "colab": {
          "base_uri": "https://localhost:8080/"
        },
        "id": "CoPJViFFpR4o",
        "outputId": "ccc62844-3217-4230-9f69-31ee4b189e22"
      },
      "execution_count": null,
      "outputs": [
        {
          "output_type": "stream",
          "name": "stdout",
          "text": [
            "Requirement already satisfied: torch in /usr/local/lib/python3.11/dist-packages (2.6.0+cu124)\n",
            "Requirement already satisfied: torchvision in /usr/local/lib/python3.11/dist-packages (0.21.0+cu124)\n",
            "Requirement already satisfied: filelock in /usr/local/lib/python3.11/dist-packages (from torch) (3.18.0)\n",
            "Requirement already satisfied: typing-extensions>=4.10.0 in /usr/local/lib/python3.11/dist-packages (from torch) (4.13.2)\n",
            "Requirement already satisfied: networkx in /usr/local/lib/python3.11/dist-packages (from torch) (3.4.2)\n",
            "Requirement already satisfied: jinja2 in /usr/local/lib/python3.11/dist-packages (from torch) (3.1.6)\n",
            "Requirement already satisfied: fsspec in /usr/local/lib/python3.11/dist-packages (from torch) (2025.3.2)\n",
            "Collecting nvidia-cuda-nvrtc-cu12==12.4.127 (from torch)\n",
            "  Downloading nvidia_cuda_nvrtc_cu12-12.4.127-py3-none-manylinux2014_x86_64.whl.metadata (1.5 kB)\n",
            "Collecting nvidia-cuda-runtime-cu12==12.4.127 (from torch)\n",
            "  Downloading nvidia_cuda_runtime_cu12-12.4.127-py3-none-manylinux2014_x86_64.whl.metadata (1.5 kB)\n",
            "Collecting nvidia-cuda-cupti-cu12==12.4.127 (from torch)\n",
            "  Downloading nvidia_cuda_cupti_cu12-12.4.127-py3-none-manylinux2014_x86_64.whl.metadata (1.6 kB)\n",
            "Collecting nvidia-cudnn-cu12==9.1.0.70 (from torch)\n",
            "  Downloading nvidia_cudnn_cu12-9.1.0.70-py3-none-manylinux2014_x86_64.whl.metadata (1.6 kB)\n",
            "Collecting nvidia-cublas-cu12==12.4.5.8 (from torch)\n",
            "  Downloading nvidia_cublas_cu12-12.4.5.8-py3-none-manylinux2014_x86_64.whl.metadata (1.5 kB)\n",
            "Collecting nvidia-cufft-cu12==11.2.1.3 (from torch)\n",
            "  Downloading nvidia_cufft_cu12-11.2.1.3-py3-none-manylinux2014_x86_64.whl.metadata (1.5 kB)\n",
            "Collecting nvidia-curand-cu12==10.3.5.147 (from torch)\n",
            "  Downloading nvidia_curand_cu12-10.3.5.147-py3-none-manylinux2014_x86_64.whl.metadata (1.5 kB)\n",
            "Collecting nvidia-cusolver-cu12==11.6.1.9 (from torch)\n",
            "  Downloading nvidia_cusolver_cu12-11.6.1.9-py3-none-manylinux2014_x86_64.whl.metadata (1.6 kB)\n",
            "Collecting nvidia-cusparse-cu12==12.3.1.170 (from torch)\n",
            "  Downloading nvidia_cusparse_cu12-12.3.1.170-py3-none-manylinux2014_x86_64.whl.metadata (1.6 kB)\n",
            "Requirement already satisfied: nvidia-cusparselt-cu12==0.6.2 in /usr/local/lib/python3.11/dist-packages (from torch) (0.6.2)\n",
            "Requirement already satisfied: nvidia-nccl-cu12==2.21.5 in /usr/local/lib/python3.11/dist-packages (from torch) (2.21.5)\n",
            "Requirement already satisfied: nvidia-nvtx-cu12==12.4.127 in /usr/local/lib/python3.11/dist-packages (from torch) (12.4.127)\n",
            "Collecting nvidia-nvjitlink-cu12==12.4.127 (from torch)\n",
            "  Downloading nvidia_nvjitlink_cu12-12.4.127-py3-none-manylinux2014_x86_64.whl.metadata (1.5 kB)\n",
            "Requirement already satisfied: triton==3.2.0 in /usr/local/lib/python3.11/dist-packages (from torch) (3.2.0)\n",
            "Requirement already satisfied: sympy==1.13.1 in /usr/local/lib/python3.11/dist-packages (from torch) (1.13.1)\n",
            "Requirement already satisfied: mpmath<1.4,>=1.1.0 in /usr/local/lib/python3.11/dist-packages (from sympy==1.13.1->torch) (1.3.0)\n",
            "Requirement already satisfied: numpy in /usr/local/lib/python3.11/dist-packages (from torchvision) (2.0.2)\n",
            "Requirement already satisfied: pillow!=8.3.*,>=5.3.0 in /usr/local/lib/python3.11/dist-packages (from torchvision) (11.2.1)\n",
            "Requirement already satisfied: MarkupSafe>=2.0 in /usr/local/lib/python3.11/dist-packages (from jinja2->torch) (3.0.2)\n",
            "Downloading nvidia_cublas_cu12-12.4.5.8-py3-none-manylinux2014_x86_64.whl (363.4 MB)\n",
            "\u001b[2K   \u001b[90m━━━━━━━━━━━━━━━━━━━━━━━━━━━━━━━━━━━━━━━━\u001b[0m \u001b[32m363.4/363.4 MB\u001b[0m \u001b[31m3.3 MB/s\u001b[0m eta \u001b[36m0:00:00\u001b[0m\n",
            "\u001b[?25hDownloading nvidia_cuda_cupti_cu12-12.4.127-py3-none-manylinux2014_x86_64.whl (13.8 MB)\n",
            "\u001b[2K   \u001b[90m━━━━━━━━━━━━━━━━━━━━━━━━━━━━━━━━━━━━━━━━\u001b[0m \u001b[32m13.8/13.8 MB\u001b[0m \u001b[31m139.5 MB/s\u001b[0m eta \u001b[36m0:00:00\u001b[0m\n",
            "\u001b[?25hDownloading nvidia_cuda_nvrtc_cu12-12.4.127-py3-none-manylinux2014_x86_64.whl (24.6 MB)\n",
            "\u001b[2K   \u001b[90m━━━━━━━━━━━━━━━━━━━━━━━━━━━━━━━━━━━━━━━━\u001b[0m \u001b[32m24.6/24.6 MB\u001b[0m \u001b[31m104.7 MB/s\u001b[0m eta \u001b[36m0:00:00\u001b[0m\n",
            "\u001b[?25hDownloading nvidia_cuda_runtime_cu12-12.4.127-py3-none-manylinux2014_x86_64.whl (883 kB)\n",
            "\u001b[2K   \u001b[90m━━━━━━━━━━━━━━━━━━━━━━━━━━━━━━━━━━━━━━━━\u001b[0m \u001b[32m883.7/883.7 kB\u001b[0m \u001b[31m56.1 MB/s\u001b[0m eta \u001b[36m0:00:00\u001b[0m\n",
            "\u001b[?25hDownloading nvidia_cudnn_cu12-9.1.0.70-py3-none-manylinux2014_x86_64.whl (664.8 MB)\n",
            "\u001b[2K   \u001b[90m━━━━━━━━━━━━━━━━━━━━━━━━━━━━━━━━━━━━━━━━\u001b[0m \u001b[32m664.8/664.8 MB\u001b[0m \u001b[31m2.2 MB/s\u001b[0m eta \u001b[36m0:00:00\u001b[0m\n",
            "\u001b[?25hDownloading nvidia_cufft_cu12-11.2.1.3-py3-none-manylinux2014_x86_64.whl (211.5 MB)\n",
            "\u001b[2K   \u001b[90m━━━━━━━━━━━━━━━━━━━━━━━━━━━━━━━━━━━━━━━━\u001b[0m \u001b[32m211.5/211.5 MB\u001b[0m \u001b[31m4.9 MB/s\u001b[0m eta \u001b[36m0:00:00\u001b[0m\n",
            "\u001b[?25hDownloading nvidia_curand_cu12-10.3.5.147-py3-none-manylinux2014_x86_64.whl (56.3 MB)\n",
            "\u001b[2K   \u001b[90m━━━━━━━━━━━━━━━━━━━━━━━━━━━━━━━━━━━━━━━━\u001b[0m \u001b[32m56.3/56.3 MB\u001b[0m \u001b[31m45.0 MB/s\u001b[0m eta \u001b[36m0:00:00\u001b[0m\n",
            "\u001b[?25hDownloading nvidia_cusolver_cu12-11.6.1.9-py3-none-manylinux2014_x86_64.whl (127.9 MB)\n",
            "\u001b[2K   \u001b[90m━━━━━━━━━━━━━━━━━━━━━━━━━━━━━━━━━━━━━━━━\u001b[0m \u001b[32m127.9/127.9 MB\u001b[0m \u001b[31m20.7 MB/s\u001b[0m eta \u001b[36m0:00:00\u001b[0m\n",
            "\u001b[?25hDownloading nvidia_cusparse_cu12-12.3.1.170-py3-none-manylinux2014_x86_64.whl (207.5 MB)\n",
            "\u001b[2K   \u001b[90m━━━━━━━━━━━━━━━━━━━━━━━━━━━━━━━━━━━━━━━━\u001b[0m \u001b[32m207.5/207.5 MB\u001b[0m \u001b[31m4.3 MB/s\u001b[0m eta \u001b[36m0:00:00\u001b[0m\n",
            "\u001b[?25hDownloading nvidia_nvjitlink_cu12-12.4.127-py3-none-manylinux2014_x86_64.whl (21.1 MB)\n",
            "\u001b[2K   \u001b[90m━━━━━━━━━━━━━━━━━━━━━━━━━━━━━━━━━━━━━━━━\u001b[0m \u001b[32m21.1/21.1 MB\u001b[0m \u001b[31m108.7 MB/s\u001b[0m eta \u001b[36m0:00:00\u001b[0m\n",
            "\u001b[?25hInstalling collected packages: nvidia-nvjitlink-cu12, nvidia-curand-cu12, nvidia-cufft-cu12, nvidia-cuda-runtime-cu12, nvidia-cuda-nvrtc-cu12, nvidia-cuda-cupti-cu12, nvidia-cublas-cu12, nvidia-cusparse-cu12, nvidia-cudnn-cu12, nvidia-cusolver-cu12\n",
            "  Attempting uninstall: nvidia-nvjitlink-cu12\n",
            "    Found existing installation: nvidia-nvjitlink-cu12 12.5.82\n",
            "    Uninstalling nvidia-nvjitlink-cu12-12.5.82:\n",
            "      Successfully uninstalled nvidia-nvjitlink-cu12-12.5.82\n",
            "  Attempting uninstall: nvidia-curand-cu12\n",
            "    Found existing installation: nvidia-curand-cu12 10.3.6.82\n",
            "    Uninstalling nvidia-curand-cu12-10.3.6.82:\n",
            "      Successfully uninstalled nvidia-curand-cu12-10.3.6.82\n",
            "  Attempting uninstall: nvidia-cufft-cu12\n",
            "    Found existing installation: nvidia-cufft-cu12 11.2.3.61\n",
            "    Uninstalling nvidia-cufft-cu12-11.2.3.61:\n",
            "      Successfully uninstalled nvidia-cufft-cu12-11.2.3.61\n",
            "  Attempting uninstall: nvidia-cuda-runtime-cu12\n",
            "    Found existing installation: nvidia-cuda-runtime-cu12 12.5.82\n",
            "    Uninstalling nvidia-cuda-runtime-cu12-12.5.82:\n",
            "      Successfully uninstalled nvidia-cuda-runtime-cu12-12.5.82\n",
            "  Attempting uninstall: nvidia-cuda-nvrtc-cu12\n",
            "    Found existing installation: nvidia-cuda-nvrtc-cu12 12.5.82\n",
            "    Uninstalling nvidia-cuda-nvrtc-cu12-12.5.82:\n",
            "      Successfully uninstalled nvidia-cuda-nvrtc-cu12-12.5.82\n",
            "  Attempting uninstall: nvidia-cuda-cupti-cu12\n",
            "    Found existing installation: nvidia-cuda-cupti-cu12 12.5.82\n",
            "    Uninstalling nvidia-cuda-cupti-cu12-12.5.82:\n",
            "      Successfully uninstalled nvidia-cuda-cupti-cu12-12.5.82\n",
            "  Attempting uninstall: nvidia-cublas-cu12\n",
            "    Found existing installation: nvidia-cublas-cu12 12.5.3.2\n",
            "    Uninstalling nvidia-cublas-cu12-12.5.3.2:\n",
            "      Successfully uninstalled nvidia-cublas-cu12-12.5.3.2\n",
            "  Attempting uninstall: nvidia-cusparse-cu12\n",
            "    Found existing installation: nvidia-cusparse-cu12 12.5.1.3\n",
            "    Uninstalling nvidia-cusparse-cu12-12.5.1.3:\n",
            "      Successfully uninstalled nvidia-cusparse-cu12-12.5.1.3\n",
            "  Attempting uninstall: nvidia-cudnn-cu12\n",
            "    Found existing installation: nvidia-cudnn-cu12 9.3.0.75\n",
            "    Uninstalling nvidia-cudnn-cu12-9.3.0.75:\n",
            "      Successfully uninstalled nvidia-cudnn-cu12-9.3.0.75\n",
            "  Attempting uninstall: nvidia-cusolver-cu12\n",
            "    Found existing installation: nvidia-cusolver-cu12 11.6.3.83\n",
            "    Uninstalling nvidia-cusolver-cu12-11.6.3.83:\n",
            "      Successfully uninstalled nvidia-cusolver-cu12-11.6.3.83\n",
            "Successfully installed nvidia-cublas-cu12-12.4.5.8 nvidia-cuda-cupti-cu12-12.4.127 nvidia-cuda-nvrtc-cu12-12.4.127 nvidia-cuda-runtime-cu12-12.4.127 nvidia-cudnn-cu12-9.1.0.70 nvidia-cufft-cu12-11.2.1.3 nvidia-curand-cu12-10.3.5.147 nvidia-cusolver-cu12-11.6.1.9 nvidia-cusparse-cu12-12.3.1.170 nvidia-nvjitlink-cu12-12.4.127\n",
            "Requirement already satisfied: numpy in /usr/local/lib/python3.11/dist-packages (2.0.2)\n",
            "Requirement already satisfied: opencv-python in /usr/local/lib/python3.11/dist-packages (4.11.0.86)\n",
            "Requirement already satisfied: pillow in /usr/local/lib/python3.11/dist-packages (11.2.1)\n",
            "Requirement already satisfied: tqdm in /usr/local/lib/python3.11/dist-packages (4.67.1)\n",
            "Requirement already satisfied: matplotlib in /usr/local/lib/python3.11/dist-packages (3.10.0)\n",
            "Requirement already satisfied: contourpy>=1.0.1 in /usr/local/lib/python3.11/dist-packages (from matplotlib) (1.3.2)\n",
            "Requirement already satisfied: cycler>=0.10 in /usr/local/lib/python3.11/dist-packages (from matplotlib) (0.12.1)\n",
            "Requirement already satisfied: fonttools>=4.22.0 in /usr/local/lib/python3.11/dist-packages (from matplotlib) (4.58.0)\n",
            "Requirement already satisfied: kiwisolver>=1.3.1 in /usr/local/lib/python3.11/dist-packages (from matplotlib) (1.4.8)\n",
            "Requirement already satisfied: packaging>=20.0 in /usr/local/lib/python3.11/dist-packages (from matplotlib) (24.2)\n",
            "Requirement already satisfied: pyparsing>=2.3.1 in /usr/local/lib/python3.11/dist-packages (from matplotlib) (3.2.3)\n",
            "Requirement already satisfied: python-dateutil>=2.7 in /usr/local/lib/python3.11/dist-packages (from matplotlib) (2.9.0.post0)\n",
            "Requirement already satisfied: six>=1.5 in /usr/local/lib/python3.11/dist-packages (from python-dateutil>=2.7->matplotlib) (1.17.0)\n",
            "Collecting pytorch-msssim\n",
            "  Downloading pytorch_msssim-1.0.0-py3-none-any.whl.metadata (8.0 kB)\n",
            "Requirement already satisfied: torch in /usr/local/lib/python3.11/dist-packages (from pytorch-msssim) (2.6.0+cu124)\n",
            "Requirement already satisfied: filelock in /usr/local/lib/python3.11/dist-packages (from torch->pytorch-msssim) (3.18.0)\n",
            "Requirement already satisfied: typing-extensions>=4.10.0 in /usr/local/lib/python3.11/dist-packages (from torch->pytorch-msssim) (4.13.2)\n",
            "Requirement already satisfied: networkx in /usr/local/lib/python3.11/dist-packages (from torch->pytorch-msssim) (3.4.2)\n",
            "Requirement already satisfied: jinja2 in /usr/local/lib/python3.11/dist-packages (from torch->pytorch-msssim) (3.1.6)\n",
            "Requirement already satisfied: fsspec in /usr/local/lib/python3.11/dist-packages (from torch->pytorch-msssim) (2025.3.2)\n",
            "Requirement already satisfied: nvidia-cuda-nvrtc-cu12==12.4.127 in /usr/local/lib/python3.11/dist-packages (from torch->pytorch-msssim) (12.4.127)\n",
            "Requirement already satisfied: nvidia-cuda-runtime-cu12==12.4.127 in /usr/local/lib/python3.11/dist-packages (from torch->pytorch-msssim) (12.4.127)\n",
            "Requirement already satisfied: nvidia-cuda-cupti-cu12==12.4.127 in /usr/local/lib/python3.11/dist-packages (from torch->pytorch-msssim) (12.4.127)\n",
            "Requirement already satisfied: nvidia-cudnn-cu12==9.1.0.70 in /usr/local/lib/python3.11/dist-packages (from torch->pytorch-msssim) (9.1.0.70)\n",
            "Requirement already satisfied: nvidia-cublas-cu12==12.4.5.8 in /usr/local/lib/python3.11/dist-packages (from torch->pytorch-msssim) (12.4.5.8)\n",
            "Requirement already satisfied: nvidia-cufft-cu12==11.2.1.3 in /usr/local/lib/python3.11/dist-packages (from torch->pytorch-msssim) (11.2.1.3)\n",
            "Requirement already satisfied: nvidia-curand-cu12==10.3.5.147 in /usr/local/lib/python3.11/dist-packages (from torch->pytorch-msssim) (10.3.5.147)\n",
            "Requirement already satisfied: nvidia-cusolver-cu12==11.6.1.9 in /usr/local/lib/python3.11/dist-packages (from torch->pytorch-msssim) (11.6.1.9)\n",
            "Requirement already satisfied: nvidia-cusparse-cu12==12.3.1.170 in /usr/local/lib/python3.11/dist-packages (from torch->pytorch-msssim) (12.3.1.170)\n",
            "Requirement already satisfied: nvidia-cusparselt-cu12==0.6.2 in /usr/local/lib/python3.11/dist-packages (from torch->pytorch-msssim) (0.6.2)\n",
            "Requirement already satisfied: nvidia-nccl-cu12==2.21.5 in /usr/local/lib/python3.11/dist-packages (from torch->pytorch-msssim) (2.21.5)\n",
            "Requirement already satisfied: nvidia-nvtx-cu12==12.4.127 in /usr/local/lib/python3.11/dist-packages (from torch->pytorch-msssim) (12.4.127)\n",
            "Requirement already satisfied: nvidia-nvjitlink-cu12==12.4.127 in /usr/local/lib/python3.11/dist-packages (from torch->pytorch-msssim) (12.4.127)\n",
            "Requirement already satisfied: triton==3.2.0 in /usr/local/lib/python3.11/dist-packages (from torch->pytorch-msssim) (3.2.0)\n",
            "Requirement already satisfied: sympy==1.13.1 in /usr/local/lib/python3.11/dist-packages (from torch->pytorch-msssim) (1.13.1)\n",
            "Requirement already satisfied: mpmath<1.4,>=1.1.0 in /usr/local/lib/python3.11/dist-packages (from sympy==1.13.1->torch->pytorch-msssim) (1.3.0)\n",
            "Requirement already satisfied: MarkupSafe>=2.0 in /usr/local/lib/python3.11/dist-packages (from jinja2->torch->pytorch-msssim) (3.0.2)\n",
            "Downloading pytorch_msssim-1.0.0-py3-none-any.whl (7.7 kB)\n",
            "Installing collected packages: pytorch-msssim\n",
            "Successfully installed pytorch-msssim-1.0.0\n"
          ]
        }
      ]
    },
    {
      "cell_type": "code",
      "source": [
        "# Bモデル側\n",
        "!cp /content/drive/MyDrive/Colab\\ Notebooks/CEVR/2023_CEVR/train_strategy/experiment/CEVR_NormNoAffine_Maps_GN_Bmodel/inc/final_model.pth \\\n",
        "     /content/drive/MyDrive/Colab\\ Notebooks/CEVR/2023_CEVR/train_strategy/experiment/CEVR_NormNoAffine_Maps_GN_Bmodel/inc/model_final.pth\n",
        "\n",
        "# Dモデル側\n",
        "!cp /content/drive/MyDrive/Colab\\ Notebooks/CEVR/2023_CEVR/train_strategy/experiment/CEVR_NormNoAffine_Maps_GN_Dmodel/dec/final_model.pth \\\n",
        "     /content/drive/MyDrive/Colab\\ Notebooks/CEVR/2023_CEVR/train_strategy/experiment/CEVR_NormNoAffine_Maps_GN_Dmodel/dec/model_final.pth"
      ],
      "metadata": {
        "id": "U9R4q4FA0KZf"
      },
      "execution_count": null,
      "outputs": []
    },
    {
      "cell_type": "code",
      "source": [
        "import torch\n",
        "from torchvision import transforms\n",
        "from PIL import Image\n",
        "import os\n",
        "from core.HDR_model import build_network\n",
        "from core.utils import save_fig\n",
        "import torch.nn.functional as F\n",
        "\n",
        "def pad_to_multiple_of_64(tensor):\n",
        "    b, c, h, w = tensor.size()\n",
        "    pad_h = (64 - h % 64) % 64\n",
        "    pad_w = (64 - w % 64) % 64\n",
        "    return F.pad(tensor, (0, pad_w, 0, pad_h), mode='reflect'), (pad_h, pad_w)\n",
        "\n",
        "def crop_back(tensor, pad_h, pad_w):\n",
        "    if pad_h == 0 and pad_w == 0:\n",
        "        return tensor\n",
        "    return tensor[:, :, :-pad_h or None, :-pad_w or None]\n",
        "\n",
        "# ===== ユーザー設定 =====\n",
        "input_path = \"img/IMG_5202_780.jpg\"\n",
        "output_dir = \"./ev_outputs_original\"\n",
        "os.makedirs(output_dir, exist_ok=True)\n",
        "ev_list = [-2.0, -1.0, 1.0, 2.0]\n",
        "device = torch.device(\"cuda\" if torch.cuda.is_available() else \"cpu\")\n",
        "\n",
        "# ===== 前処理：パディングありで元画像サイズ保持 =====\n",
        "img = Image.open(input_path).convert(\"RGB\")\n",
        "orig_size = img.size\n",
        "input_tensor = transforms.ToTensor()(img).unsqueeze(0).to(device)\n",
        "input_tensor, (pad_h, pad_w) = pad_to_multiple_of_64(input_tensor)\n",
        "\n",
        "# ===== モデル構築（EV_info = 1前提）=====\n",
        "class Args:\n",
        "    model_name = \"CEVR_NormNoAffine_Maps\"\n",
        "    decode_name = \"mult_resizeUp_map\"\n",
        "    act = \"leaky_relu\"\n",
        "    mlp_num = 3\n",
        "    pretrain = \"vgg\"\n",
        "    cycle = False\n",
        "    sep = 0.5\n",
        "    EV_info = 1\n",
        "    init_weight = False\n",
        "    norm_type = \"GroupNorm\"\n",
        "    NormAffine = False\n",
        "\n",
        "args = Args()\n",
        "model_inc = build_network(args).to(device)\n",
        "model_dec = build_network(args).to(device)\n",
        "\n",
        "# ===== 重み読み込み =====\n",
        "model_inc.load_state_dict(torch.load(\"train_strategy/experiment/CEVR_NormNoAffine_Maps_GN_Bmodel/inc/model_final.pth\"))\n",
        "model_dec.load_state_dict(torch.load(\"train_strategy/experiment/CEVR_NormNoAffine_Maps_GN_Dmodel/dec/model_final.pth\"))\n",
        "model_inc.eval()\n",
        "model_dec.eval()\n",
        "\n",
        "# ===== 推論ループ =====\n",
        "for ev in ev_list:\n",
        "    step = torch.tensor([[ev]], dtype=torch.float32).to(device)\n",
        "    ori = torch.tensor([[0.0]], dtype=torch.float32).to(device)\n",
        "\n",
        "    with torch.no_grad():\n",
        "        if ev > 0:\n",
        "            output = model_inc(input_tensor, step, ori)\n",
        "        else:\n",
        "            output = model_dec(input_tensor, step, ori)\n",
        "\n",
        "    # パディング分をカットして元サイズに戻す\n",
        "    output = crop_back(output, pad_h, pad_w)\n",
        "\n",
        "    # 保存\n",
        "    output_img = output.squeeze(0).cpu()\n",
        "    out_path = os.path.join(output_dir, f\"EV{int(ev):+d}.png\")\n",
        "    save_fig(output_img, out_path)\n",
        "    print(f\"✅ 出力: {out_path}（元画像サイズ: {orig_size}）\")"
      ],
      "metadata": {
        "colab": {
          "base_uri": "https://localhost:8080/"
        },
        "id": "5mZjt4lstIww",
        "outputId": "2b5e5cc0-6222-4f53-b539-dbe25a998541"
      },
      "execution_count": null,
      "outputs": [
        {
          "output_type": "stream",
          "name": "stdout",
          "text": [
            "!!!! net_name = CEVR_NormNoAffine_Maps !!!!\n",
            "CEVR(Maps) Normalization layer affine: False\n",
            "BottleNeck normlization don't use affine(Learnable parameter)\n",
            "#############################self.norm_type in bottleneck:  GroupNorm  ####################\n",
            "Decoder normlization don't use affine(Learnable parameter)\n",
            "#############################self.norm_type in DecoderBlock(Maps):  GroupNorm  ####################\n",
            "Resize_conv upsample mode:  bicubic\n",
            "Decoder normlization don't use affine(Learnable parameter)\n",
            "#############################self.norm_type in DecoderBlock(Maps):  GroupNorm  ####################\n",
            "Resize_conv upsample mode:  bicubic\n",
            "Decoder normlization don't use affine(Learnable parameter)\n",
            "#############################self.norm_type in DecoderBlock(Maps):  GroupNorm  ####################\n",
            "Resize_conv upsample mode:  bicubic\n",
            "model_name: CEVR_NormNoAffine_Maps pretrain: vgg mlp_num: 3 decoder: mult_resizeUp_map activation: leaky_relu\n",
            "!!!! net_name = CEVR_NormNoAffine_Maps !!!!\n",
            "CEVR(Maps) Normalization layer affine: False\n",
            "BottleNeck normlization don't use affine(Learnable parameter)\n",
            "#############################self.norm_type in bottleneck:  GroupNorm  ####################\n",
            "Decoder normlization don't use affine(Learnable parameter)\n",
            "#############################self.norm_type in DecoderBlock(Maps):  GroupNorm  ####################\n",
            "Resize_conv upsample mode:  bicubic\n",
            "Decoder normlization don't use affine(Learnable parameter)\n",
            "#############################self.norm_type in DecoderBlock(Maps):  GroupNorm  ####################\n",
            "Resize_conv upsample mode:  bicubic\n",
            "Decoder normlization don't use affine(Learnable parameter)\n",
            "#############################self.norm_type in DecoderBlock(Maps):  GroupNorm  ####################\n",
            "Resize_conv upsample mode:  bicubic\n",
            "model_name: CEVR_NormNoAffine_Maps pretrain: vgg mlp_num: 3 decoder: mult_resizeUp_map activation: leaky_relu\n",
            "✅ 出力: ./ev_outputs_original/EV-2.png（元画像サイズ: (780, 1040)）\n",
            "✅ 出力: ./ev_outputs_original/EV-1.png（元画像サイズ: (780, 1040)）\n",
            "✅ 出力: ./ev_outputs_original/EV+1.png（元画像サイズ: (780, 1040)）\n",
            "✅ 出力: ./ev_outputs_original/EV+2.png（元画像サイズ: (780, 1040)）\n"
          ]
        }
      ]
    },
    {
      "cell_type": "code",
      "source": [
        "import torch\n",
        "import torch.nn.functional as F\n",
        "from torchvision import transforms\n",
        "from PIL import Image\n",
        "import os\n",
        "from core.HDR_model import build_network\n",
        "from core.utils import save_fig\n",
        "\n",
        "# ユーザー設定\n",
        "input_path = \"img/IMG_5202.jpg\"\n",
        "output_dir = \"./IMG_5202_blended\"\n",
        "os.makedirs(output_dir, exist_ok=True)\n",
        "ev_list = [-2.0, -1.0, 1.0, 2.0]\n",
        "device = torch.device(\"cuda\" if torch.cuda.is_available() else \"cpu\")\n",
        "patch_height, patch_width = 384, 512\n",
        "overlap = 64\n",
        "stride_h, stride_w = patch_height - overlap, patch_width - overlap\n",
        "\n",
        "# モデル構築\n",
        "class Args:\n",
        "    model_name = \"CEVR_NormNoAffine_Maps\"\n",
        "    decode_name = \"mult_resizeUp_map\"\n",
        "    act = \"leaky_relu\"\n",
        "    mlp_num = 3\n",
        "    pretrain = \"vgg\"\n",
        "    cycle = False\n",
        "    sep = 0.5\n",
        "    EV_info = 1\n",
        "    init_weight = False\n",
        "    norm_type = \"GroupNorm\"\n",
        "    NormAffine = False\n",
        "\n",
        "args = Args()\n",
        "model_inc = build_network(args).to(device)\n",
        "model_dec = build_network(args).to(device)\n",
        "model_inc.load_state_dict(torch.load(\"train_strategy/experiment/CEVR_NormNoAffine_Maps_GN_Bmodel/inc/model_final.pth\"))\n",
        "model_dec.load_state_dict(torch.load(\"train_strategy/experiment/CEVR_NormNoAffine_Maps_GN_Dmodel/dec/model_final.pth\"))\n",
        "model_inc.eval()\n",
        "model_dec.eval()\n",
        "\n",
        "# 重みマスク（中心重視の窓関数）\n",
        "def create_weight_mask(h, w):\n",
        "    y = torch.linspace(0, 1, h).view(-1, 1)\n",
        "    x = torch.linspace(0, 1, w).view(1, -1)\n",
        "    w = torch.minimum(y, 1 - y) * torch.minimum(x, 1 - x)\n",
        "    w = 0.1 + 0.9 * (w / w.max())  # ←ここ\n",
        "    return w\n",
        "\n",
        "# 画像読み込み\n",
        "img = Image.open(input_path).convert(\"RGB\")\n",
        "input_tensor = transforms.ToTensor()(img).unsqueeze(0).to(device)\n",
        "_, _, full_h, full_w = input_tensor.shape\n",
        "weight_mask = create_weight_mask(patch_height, patch_width).to(device).unsqueeze(0).repeat(3,1,1)\n",
        "\n",
        "# 推論ループ\n",
        "for ev in ev_list:\n",
        "    step = torch.tensor([[ev]], dtype=torch.float32).to(device)\n",
        "    ori = torch.tensor([[0.0]], dtype=torch.float32).to(device)\n",
        "\n",
        "    output_accum = torch.zeros_like(input_tensor)\n",
        "    weight_sum = torch.zeros_like(input_tensor)\n",
        "\n",
        "    with torch.no_grad():\n",
        "        for i in range(0, full_h, stride_h):\n",
        "            for j in range(0, full_w, stride_w):\n",
        "                patch = input_tensor[:, :, i:i+patch_height, j:j+patch_width]\n",
        "                orig_h, orig_w = patch.size(2), patch.size(3)\n",
        "\n",
        "                # パディング\n",
        "                pad_h = patch_height - orig_h\n",
        "                pad_w = patch_width - orig_w\n",
        "                if pad_h > 0 or pad_w > 0:\n",
        "                    patch = F.pad(patch, (0, pad_w, 0, pad_h), mode=\"replicate\")\n",
        "\n",
        "                out = model_inc(patch, step, ori) if ev > 0 else model_dec(patch, step, ori)\n",
        "                out = out[:, :, :orig_h, :orig_w]\n",
        "                wm = weight_mask[:, :orig_h, :orig_w].unsqueeze(0)\n",
        "\n",
        "                output_accum[:, :, i:i+orig_h, j:j+orig_w] += out * wm\n",
        "                weight_sum[:, :, i:i+orig_h, j:j+orig_w] += wm\n",
        "\n",
        "    output_tensor = output_accum / (weight_sum + 1e-8)\n",
        "    output_img = output_tensor.squeeze(0).cpu()\n",
        "    save_fig(output_img, os.path.join(output_dir, f\"EV{int(ev):+d}.png\"))\n",
        "    print(f\"✅ EV{ev:+.1f} done.\")"
      ],
      "metadata": {
        "id": "guO38qgH6T7l",
        "colab": {
          "base_uri": "https://localhost:8080/"
        },
        "outputId": "dc58095b-fd43-4d51-fbad-83c95809118d"
      },
      "execution_count": null,
      "outputs": [
        {
          "output_type": "stream",
          "name": "stdout",
          "text": [
            "!!!! net_name = CEVR_NormNoAffine_Maps !!!!\n",
            "CEVR(Maps) Normalization layer affine: False\n",
            "BottleNeck normlization don't use affine(Learnable parameter)\n",
            "#############################self.norm_type in bottleneck:  GroupNorm  ####################\n",
            "Decoder normlization don't use affine(Learnable parameter)\n",
            "#############################self.norm_type in DecoderBlock(Maps):  GroupNorm  ####################\n",
            "Resize_conv upsample mode:  bicubic\n",
            "Decoder normlization don't use affine(Learnable parameter)\n",
            "#############################self.norm_type in DecoderBlock(Maps):  GroupNorm  ####################\n",
            "Resize_conv upsample mode:  bicubic\n",
            "Decoder normlization don't use affine(Learnable parameter)\n",
            "#############################self.norm_type in DecoderBlock(Maps):  GroupNorm  ####################\n",
            "Resize_conv upsample mode:  bicubic\n",
            "model_name: CEVR_NormNoAffine_Maps pretrain: vgg mlp_num: 3 decoder: mult_resizeUp_map activation: leaky_relu\n",
            "!!!! net_name = CEVR_NormNoAffine_Maps !!!!\n",
            "CEVR(Maps) Normalization layer affine: False\n",
            "BottleNeck normlization don't use affine(Learnable parameter)\n",
            "#############################self.norm_type in bottleneck:  GroupNorm  ####################\n",
            "Decoder normlization don't use affine(Learnable parameter)\n",
            "#############################self.norm_type in DecoderBlock(Maps):  GroupNorm  ####################\n",
            "Resize_conv upsample mode:  bicubic\n",
            "Decoder normlization don't use affine(Learnable parameter)\n",
            "#############################self.norm_type in DecoderBlock(Maps):  GroupNorm  ####################\n",
            "Resize_conv upsample mode:  bicubic\n",
            "Decoder normlization don't use affine(Learnable parameter)\n",
            "#############################self.norm_type in DecoderBlock(Maps):  GroupNorm  ####################\n",
            "Resize_conv upsample mode:  bicubic\n",
            "model_name: CEVR_NormNoAffine_Maps pretrain: vgg mlp_num: 3 decoder: mult_resizeUp_map activation: leaky_relu\n",
            "✅ EV-2.0 done.\n",
            "✅ EV-1.0 done.\n",
            "✅ EV+1.0 done.\n",
            "✅ EV+2.0 done.\n"
          ]
        }
      ]
    },
    {
      "cell_type": "code",
      "source": [],
      "metadata": {
        "id": "jWooLaJZfNSk"
      },
      "execution_count": null,
      "outputs": []
    }
  ]
}